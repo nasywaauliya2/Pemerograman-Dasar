{
  "nbformat": 4,
  "nbformat_minor": 0,
  "metadata": {
    "colab": {
      "provenance": [],
      "authorship_tag": "ABX9TyPwLRscrvYMqjVFGulqzLL0",
      "include_colab_link": true
    },
    "kernelspec": {
      "name": "python3",
      "display_name": "Python 3"
    },
    "language_info": {
      "name": "python"
    }
  },
  "cells": [
    {
      "cell_type": "markdown",
      "metadata": {
        "id": "view-in-github",
        "colab_type": "text"
      },
      "source": [
        "<a href=\"https://colab.research.google.com/github/nasywaauliya2/Pemerograman-Dasar/blob/main/Tugas%20praktikum2.ipynb\" target=\"_parent\"><img src=\"https://colab.research.google.com/assets/colab-badge.svg\" alt=\"Open In Colab\"/></a>"
      ]
    },
    {
      "cell_type": "code",
      "execution_count": null,
      "metadata": {
        "colab": {
          "base_uri": "https://localhost:8080/"
        },
        "id": "BL_Xx5Zudn2h",
        "outputId": "4526a6ee-01fc-4605-9857-67007fdcf512"
      },
      "outputs": [
        {
          "output_type": "stream",
          "name": "stdout",
          "text": [
            "Nasywa\n",
            "Auliya\n",
            "19\n",
            "False\n"
          ]
        }
      ],
      "source": [
        "firstName = \"Nasywa\"\n",
        "lastName = \"Auliya\"\n",
        "age = 19\n",
        "isMarried = False\n",
        "\n",
        "print(firstName)\n",
        "print(lastName)\n",
        "print(age)\n",
        "print(isMarried)"
      ]
    },
    {
      "cell_type": "code",
      "source": [
        "data_diri = {'firstName' : 'Nasywa', 'lastName' : 'Auliya', 'age' : 19, 'isMarried' : False}\n",
        "\n",
        "print (data_diri)"
      ],
      "metadata": {
        "colab": {
          "base_uri": "https://localhost:8080/"
        },
        "id": "DVXQYybDoxbW",
        "outputId": "2559b1c5-9613-46d7-9505-c793ce281ff0"
      },
      "execution_count": null,
      "outputs": [
        {
          "output_type": "stream",
          "name": "stdout",
          "text": [
            "{'firstName': 'Nasywa', 'lastName': 'Auliya', 'age': 19, 'isMarried': False}\n"
          ]
        }
      ]
    },
    {
      "cell_type": "code",
      "source": [
        "inspeksi = [\n",
        "    \"pemahaman terhadap rencana dan desain\",\n",
        "    \"ketersedian bahan dan peralatan\",\n",
        "    \"pengawasan pekerjaan\",\n",
        "    \"kualitas kontruksi\",\n",
        "    \"keselamatan kerja\",\n",
        "    \"koordinasi dengan pemilik proyek\"\n",
        "]\n",
        "\n",
        "print (inspeksi)"
      ],
      "metadata": {
        "colab": {
          "base_uri": "https://localhost:8080/"
        },
        "id": "6WfVbuYgsmnM",
        "outputId": "b4d5515f-b66d-4396-f50d-c085753ce1e3"
      },
      "execution_count": null,
      "outputs": [
        {
          "output_type": "stream",
          "name": "stdout",
          "text": [
            "['pemahaman terhadap rencana dan desain', 'ketersedian bahan dan peralatan', 'pengawasan pekerjaan', 'kualitas kontruksi', 'keselamatan kerja', 'koordinasi dengan pemilik proyek']\n"
          ]
        }
      ]
    },
    {
      "cell_type": "code",
      "source": [
        "startTime = {\n",
        "    \"HH\": 9,\n",
        "    \"mm\" : 23,\n",
        "    \"ss\" : 57\n",
        "}\n",
        "endTime = {\n",
        "    \"HH\": 15,\n",
        "    \"mm\": 25,\n",
        "    \"ss\" : 43\n",
        "}\n",
        "\n",
        "print (startTime)\n",
        "print (endTime)\n"
      ],
      "metadata": {
        "colab": {
          "base_uri": "https://localhost:8080/"
        },
        "id": "M-s8OSadtsxi",
        "outputId": "35dd0532-9d75-407e-8b24-7153b7db7d98"
      },
      "execution_count": null,
      "outputs": [
        {
          "output_type": "stream",
          "name": "stdout",
          "text": [
            "{'HH': 9, 'mm': 23, 'ss': 57}\n",
            "{'HH': 15, 'mm': 25, 'ss': 43}\n"
          ]
        }
      ]
    },
    {
      "cell_type": "code",
      "source": [
        "#Data katalog dari dua pemasok\n",
        "katalog_A = {\"Mawar\", \"Anggrek\", \"Peony\", \"lily\"}\n",
        "katalog_B = {\"Daisy\", \"Poppy\", \"Anggrek\", \"Mawar\"}\n",
        "\n",
        "# Daftar produk diskon (tuple)\n",
        "produk_diskon = (\"Lily\", \"Peony\", \"Anggrek\")\n",
        "\n",
        "# 1. Gabungkan katalog A dan B (union)\n",
        "katalog_lengkap = katalog_A.union(katalog_B)\n",
        "\n",
        "# 2. Cari produk promo aktif (intersection)\n",
        "produk_promo_aktif = katalog_lengkap.intersection(produk_diskon)\n",
        "\n",
        "# Cek hasil\n",
        "print(\"Katalog Lengkap:\", katalog_lengkap)\n",
        "print(\"Produk Promo Aktif:\", produk_promo_aktif)"
      ],
      "metadata": {
        "colab": {
          "base_uri": "https://localhost:8080/"
        },
        "id": "ZmpBqY0UvWqM",
        "outputId": "7bccb9d5-29c5-411c-c7b2-8b6673d48bc0"
      },
      "execution_count": null,
      "outputs": [
        {
          "output_type": "stream",
          "name": "stdout",
          "text": [
            "Katalog Lengkap: {'Poppy', 'Peony', 'Anggrek', 'lily', 'Daisy', 'Mawar'}\n",
            "Produk Promo Aktif: {'Anggrek', 'Peony'}\n"
          ]
        }
      ]
    },
    {
      "cell_type": "code",
      "source": [],
      "metadata": {
        "id": "H9I6FyM7q2f4"
      },
      "execution_count": null,
      "outputs": []
    }
  ]
}