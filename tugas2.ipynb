{
  "nbformat": 4,
  "nbformat_minor": 0,
  "metadata": {
    "colab": {
      "provenance": [],
      "authorship_tag": "ABX9TyN8kLqC3IQWn8ZdDB5c+wTh",
      "include_colab_link": true
    },
    "kernelspec": {
      "name": "python3",
      "display_name": "Python 3"
    },
    "language_info": {
      "name": "python"
    }
  },
  "cells": [
    {
      "cell_type": "markdown",
      "metadata": {
        "id": "view-in-github",
        "colab_type": "text"
      },
      "source": [
        "<a href=\"https://colab.research.google.com/github/nasywaauliya2/Pemerograman-Dasar/blob/main/tugas2.ipynb\" target=\"_parent\"><img src=\"https://colab.research.google.com/assets/colab-badge.svg\" alt=\"Open In Colab\"/></a>"
      ]
    },
    {
      "cell_type": "code",
      "execution_count": 9,
      "metadata": {
        "colab": {
          "base_uri": "https://localhost:8080/"
        },
        "id": "5ZKRm6AbdDmY",
        "outputId": "a60d2c39-4a8b-451a-d188-12de2a7252f0"
      },
      "outputs": [
        {
          "output_type": "stream",
          "name": "stdout",
          "text": [
            "- Biodata saya -\n",
            "nama             : Nasywa auliya\n",
            "umur             : 4232401026\n",
            "jurusan          : Tekik Elektro\n",
            "prodi            : RPE\n",
            "semester         : 3\n",
            "jenis_kelamin    : Perempuan\n",
            "matakuliah       : ['Pemerograman Dasar']\n",
            "tanggal_lahir    : (10, 'mei', 2006)\n",
            "hobi             : {'Membaca', 'Memasak', 'Berkebun'}\n"
          ]
        }
      ],
      "source": [
        "#Dictionary, Menyimpan Data Utama Biodata\n",
        "nama = \"Nasywa auliya\"\n",
        "nim = '4232401026'\n",
        "umur = 19\n",
        "jurusan = \"Tekik Elektro\"\n",
        "prodi = 'RPE'\n",
        "semester = 3\n",
        "jenis_kelamin = \"Perempuan\"\n",
        "\n",
        "#List\n",
        "matakuliah = [\"Pemerograman Dasar\"]\n",
        "\n",
        "#Tuple\n",
        "tanggal_lahir = (10, \"mei\", 2006)\n",
        "\n",
        "#Set\n",
        "hobi = {\"Membaca\", \"Berkebun\", \"Memasak\"}\n",
        "\n",
        "\n",
        "print (\"- Biodata saya -\")\n",
        "print (\"nama             :\",nama)\n",
        "print (\"umur             :\",nim)\n",
        "print (\"jurusan          :\",jurusan)\n",
        "print (\"prodi            :\",prodi)\n",
        "print (\"semester         :\",semester)\n",
        "print (\"jenis_kelamin    :\",jenis_kelamin)\n",
        "print (\"matakuliah       :\",matakuliah)\n",
        "print (\"tanggal_lahir    :\",tanggal_lahir)\n",
        "print (\"hobi             :\",hobi)\n"
      ]
    },
    {
      "cell_type": "code",
      "source": [],
      "metadata": {
        "id": "EpsBjvjJhAZd"
      },
      "execution_count": null,
      "outputs": []
    }
  ]
}