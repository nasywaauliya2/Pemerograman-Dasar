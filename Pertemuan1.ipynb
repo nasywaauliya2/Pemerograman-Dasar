{
  "nbformat": 4,
  "nbformat_minor": 0,
  "metadata": {
    "colab": {
      "provenance": [],
      "authorship_tag": "ABX9TyP3+HznRqro4QxUBnkpmq+L",
      "include_colab_link": true
    },
    "kernelspec": {
      "name": "python3",
      "display_name": "Python 3"
    },
    "language_info": {
      "name": "python"
    }
  },
  "cells": [
    {
      "cell_type": "markdown",
      "metadata": {
        "id": "view-in-github",
        "colab_type": "text"
      },
      "source": [
        "<a href=\"https://colab.research.google.com/github/nasywaauliya2/Pemerograman-Dasar/blob/main/Pertemuan1.ipynb\" target=\"_parent\"><img src=\"https://colab.research.google.com/assets/colab-badge.svg\" alt=\"Open In Colab\"/></a>"
      ]
    },
    {
      "cell_type": "code",
      "execution_count": null,
      "metadata": {
        "colab": {
          "base_uri": "https://localhost:8080/"
        },
        "id": "5ZKRm6AbdDmY",
        "outputId": "a2534476-8c19-4576-aec9-b8cf9646cc5e"
      },
      "outputs": [
        {
          "output_type": "stream",
          "name": "stdout",
          "text": [
            "Nasywa\n",
            "4232401026\n",
            "19\n",
            "Teknik Elektro\n",
            "RPE\n",
            "3\n",
            "Perempuan\n",
            "Pemerograman Dasar\n",
            "False\n"
          ]
        }
      ],
      "source": [
        "#Biodata Saya\n",
        "nama = \"Nasywa\"\n",
        "nim = '4232401026'\n",
        "umur = 19\n",
        "jurusan = \"Teknik Elektro\"\n",
        "prodi = 'RPE'\n",
        "semester = 3\n",
        "jenis_kelamin = \"Perempuan\"\n",
        "matakuliah = 'Pemerograman Dasar'\n",
        "status_lulus = False\n",
        "\n",
        "print (nama)\n",
        "print (nim)\n",
        "print (umur)\n",
        "print (jurusan)\n",
        "print (prodi)\n",
        "print (semester)\n",
        "print (jenis_kelamin)\n",
        "print (matakuliah)\n",
        "print (status_lulus)\n"
      ]
    }
  ]
}