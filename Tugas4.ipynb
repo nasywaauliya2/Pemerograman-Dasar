{
  "nbformat": 4,
  "nbformat_minor": 0,
  "metadata": {
    "colab": {
      "provenance": [],
      "authorship_tag": "ABX9TyPBYZm6osQV/JLJEDf+awxc",
      "include_colab_link": true
    },
    "kernelspec": {
      "name": "python3",
      "display_name": "Python 3"
    },
    "language_info": {
      "name": "python"
    }
  },
  "cells": [
    {
      "cell_type": "markdown",
      "metadata": {
        "id": "view-in-github",
        "colab_type": "text"
      },
      "source": [
        "<a href=\"https://colab.research.google.com/github/nasywaauliya2/Pemerograman-Dasar/blob/main/Tugas4.ipynb\" target=\"_parent\"><img src=\"https://colab.research.google.com/assets/colab-badge.svg\" alt=\"Open In Colab\"/></a>"
      ]
    },
    {
      "cell_type": "code",
      "execution_count": 1,
      "metadata": {
        "colab": {
          "base_uri": "https://localhost:8080/"
        },
        "id": "tkM7cRdCGE3y",
        "outputId": "ef21012a-e61a-4fd4-e249-123d09ede639"
      },
      "outputs": [
        {
          "output_type": "stream",
          "name": "stdout",
          "text": [
            "==============================\n",
            "SELAMAT DATANG DI TOKO BUNGA BLOOMSBY\n",
            "==============================\n",
            "Jual Beli Bunga\n",
            "1. Bunga Peony        - Rp 25.000\n",
            "2. Bunga Anggrek      - Rp 20.000\n",
            "3. Bunga Lily         - Rp 15.000\n",
            "4. Bunga Lavender     - Rp 15.000\n",
            "5. Bunga Garbera      - Rp 30.000\n",
            "6. Bunga Aster        - Rp 50.000\n",
            "==============================\n",
            "Silakan masukkan nomor pilihan Anda (1-6): 5\n",
            "Silakan masukkan nomor pilihan Anda (1-6): 6\n",
            "Anda memesan: Bunga Aster dengan harga Rp 50000\n",
            "==============================\n",
            "Total Belanja : Rp 50000\n",
            "Diskon        : 70% (Rp 35000)\n",
            "Total Bayar   : Rp 15000\n",
            "==============================\n",
            "Masukkan jumlah uang Anda: Rp 100000\n",
            "\n",
            "=== Struk Pembayaran ===\n",
            "Pesanan       : Bunga Aster\n",
            "Total Bayar   : Rp 15000\n",
            "Uang Dibayar  : Rp 100000\n",
            "Kembalian     : Rp 85000\n",
            "Terima kasih telah berbelanja!\n"
          ]
        }
      ],
      "source": [
        "print(\"=\"*30)\n",
        "print(\"SELAMAT DATANG DI TOKO BUNGA BLOOMSBY\")\n",
        "print(\"=\"*30)\n",
        "print(\"Jual Beli Bunga\")\n",
        "print(\"1. Bunga Peony        - Rp 25.000\")\n",
        "print(\"2. Bunga Anggrek      - Rp 20.000\")\n",
        "print(\"3. Bunga Lily         - Rp 15.000\")\n",
        "print(\"4. Bunga Lavender     - Rp 15.000\")\n",
        "print(\"5. Bunga Garbera      - Rp 30.000\")\n",
        "print(\"6. Bunga Aster        - Rp 50.000\")\n",
        "print(\"=\"*30)\n",
        "\n",
        "pilihan_str = input(\"Silakan masukkan nomor pilihan Anda (1-6): \")\n",
        "pilihan = int(pilihan_str)\n",
        "nama_pesanan = \"\"\n",
        "harga = 0\n",
        "\n",
        "pilihan_str = input(\"Silakan masukkan nomor pilihan Anda (1-6): \")\n",
        "pilihan = int(pilihan_str)\n",
        "nama_pesanan = \"\"\n",
        "harga = 0\n",
        "\n",
        "if   pilihan == 1:\n",
        "    nama_pesanan = \"Bunga Peony\"\n",
        "    harga = 25000\n",
        "elif pilihan == 2:\n",
        "    nama_pesanan = \"Bunga Anggrek\"\n",
        "    harga = 20000\n",
        "elif pilihan == 3:\n",
        "    nama_pesanan = \"Bunga Lily\"\n",
        "    harga = 15000\n",
        "elif pilihan == 4:\n",
        "    nama_pesanan = \"Bunga Lavender\"\n",
        "    harga = 15000\n",
        "elif pilihan == 5:\n",
        "    nama_pesanan = \"Bunga Garbera\"\n",
        "    harga = 30000\n",
        "elif pilihan == 6:\n",
        "    nama_pesanan = \"Bunga Aster\"\n",
        "    harga = 50000\n",
        "\n",
        "else:\n",
        "    print(\"Maaf, pilihan menu tidak valid. Silakan jalankan ulang program.\")\n",
        "    exit()\n",
        "\n",
        "print(f\"Anda memesan: {nama_pesanan} dengan harga Rp {harga}\")\n",
        "\n",
        "# Hitung diskon\n",
        "diskon = 0\n",
        "if harga >= 50000:\n",
        "    diskon = 0.7\n",
        "elif harga >= 30000:\n",
        "    diskon = 0.5\n",
        "elif harga >= 20000:\n",
        "    diskon = 0.3\n",
        "else:\n",
        "    diskon = 0\n",
        "\n",
        "potongan = int(harga * diskon)\n",
        "total_bayar = harga - potongan\n",
        "\n",
        "print(\"=\"*30)\n",
        "print(f\"Total Belanja : Rp {harga}\")\n",
        "print(f\"Diskon        : {int(diskon*100)}% (Rp {potongan})\")\n",
        "print(f\"Total Bayar   : Rp {total_bayar}\")\n",
        "print(\"=\"*30)\n",
        "\n",
        "uang_dibayar = int(input(f\"Masukkan jumlah uang Anda: Rp \"))\n",
        "if uang_dibayar >= total_bayar:\n",
        "    kembalian = uang_dibayar - total_bayar\n",
        "    print(\"\\n=== Struk Pembayaran ===\")\n",
        "    print(f\"Pesanan       : {nama_pesanan}\")\n",
        "    print(f\"Total Bayar   : Rp {total_bayar}\")\n",
        "    print(f\"Uang Dibayar  : Rp {uang_dibayar}\")\n",
        "    print(f\"Kembalian     : Rp {kembalian}\")\n",
        "    print(\"Terima kasih telah berbelanja!\")\n",
        "else:\n",
        "    kekurangan = total_bayar - uang_dibayar\n",
        "    print(f\"Maaf, uang Anda kurang sebesar Rp {kekurangan}\")\n"
      ]
    }
  ]
}