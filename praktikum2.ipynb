{
  "nbformat": 4,
  "nbformat_minor": 0,
  "metadata": {
    "colab": {
      "provenance": [],
      "authorship_tag": "ABX9TyPql6UYeF0II/LuGooRMIpm",
      "include_colab_link": true
    },
    "kernelspec": {
      "name": "python3",
      "display_name": "Python 3"
    },
    "language_info": {
      "name": "python"
    }
  },
  "cells": [
    {
      "cell_type": "markdown",
      "metadata": {
        "id": "view-in-github",
        "colab_type": "text"
      },
      "source": [
        "<a href=\"https://colab.research.google.com/github/nasywaauliya2/Pemerograman-Dasar/blob/main/praktikum2.ipynb\" target=\"_parent\"><img src=\"https://colab.research.google.com/assets/colab-badge.svg\" alt=\"Open In Colab\"/></a>"
      ]
    },
    {
      "cell_type": "code",
      "execution_count": null,
      "metadata": {
        "colab": {
          "base_uri": "https://localhost:8080/"
        },
        "id": "E-swJ8O5zApV",
        "outputId": "742a4633-8f8b-4ec0-f26e-160f63100f0b"
      },
      "outputs": [
        {
          "output_type": "stream",
          "name": "stdout",
          "text": [
            "23\n",
            "43\n",
            "15\n",
            "34\n",
            "15\n"
          ]
        }
      ],
      "source": [
        "# deklarasi variable list\n",
        "numbers = [23, 43, 15, 34]\n",
        "# cara mengakses elemen dalam variable list\n",
        "numbers [0] #23\n",
        "numbers [1] #43\n",
        "numbers [2] #15\n",
        "numbers [3] #34\n",
        "# cara mengubah nilai elemen dalam variable list\n",
        "numbers [2] #51\n",
        "numbers [2] #51\n",
        "\n",
        "print (numbers[0])\n",
        "print (numbers[1])\n",
        "print (numbers[2])\n",
        "print (numbers[3])\n",
        "print (numbers[2])\n"
      ]
    },
    {
      "cell_type": "code",
      "source": [
        "# deklarasi variable list numbers\n",
        "numbers = [1, 2, 3]\n",
        "# menambahkan elemen di indeks ke-4\n",
        "numbers.insert (4, 5)   #[1, 2, 3, 5]\n",
        "# mengubah elemen di indeks ke-4\n",
        "numbers [3] = 4\n",
        "#menghapus elemen di indeks ke-2\n",
        "numbers.pop(2)    #[1, 2, 4]\n",
        "\n",
        "print (numbers)"
      ],
      "metadata": {
        "colab": {
          "base_uri": "https://localhost:8080/"
        },
        "id": "_LcPrpQx7kId",
        "outputId": "d7bf55ad-9f46-4122-fe27-b866f7a3cddd"
      },
      "execution_count": null,
      "outputs": [
        {
          "output_type": "stream",
          "name": "stdout",
          "text": [
            "[1, 2, 4]\n"
          ]
        }
      ]
    },
    {
      "cell_type": "code",
      "source": [
        "# deklarasi variable list numbers\n",
        "numbers = [1, 2, 3]\n",
        "\n",
        "# menambahkan elemen di indeks ke-4\n",
        "numbers.insert(4, 5) # [1, 2, 3, 5]\n",
        "\n",
        "# mengubah elemen di indeks ke-4\n",
        "numbers[3] = 4 # [1, 2, 3, 4]\n",
        "\n",
        "# menghapus elemen di indeks ke-2\n",
        "numbers.pop(2) # [1, 2, 4]\n",
        "\n",
        "print (numbers)\n",
        "print (numbers.insert (4, 5))\n",
        "print (numbers.insert)\n",
        "print (numbers [3])\n",
        "print (numbers.pop(2))"
      ],
      "metadata": {
        "colab": {
          "base_uri": "https://localhost:8080/"
        },
        "id": "eFJZLFjSJA7v",
        "outputId": "9ae51bc0-89a6-4e92-9d21-28ec5e9c4b5a"
      },
      "execution_count": null,
      "outputs": [
        {
          "output_type": "stream",
          "name": "stdout",
          "text": [
            "[1, 2, 4]\n",
            "None\n",
            "<built-in method insert of list object at 0x7ed2c20bbcc0>\n",
            "5\n",
            "4\n"
          ]
        }
      ]
    },
    {
      "cell_type": "code",
      "source": [
        "# deklarasi variable list\n",
        "myList = [1, \"Rumah\", 4.5, True, [\"Kamar mandi\", \"Kamar tidur\"]]\n",
        "\n",
        "# cara mengakses elemen dalam variable list\n",
        "myList [0] # 1\n",
        "myList [1] #\"Rumah\"\n",
        "myList [3] # True\n",
        "myList [4] # [\"Kamar mandi, Kamar tidur\"]\n",
        "\n",
        "# cara mengakses elemen dalam sublist\n",
        "myList [4][0] # Kamar mandi\n",
        "myList [4][1] # Kamar tidur\n",
        "\n",
        "print"
      ],
      "metadata": {
        "colab": {
          "base_uri": "https://localhost:8080/"
        },
        "id": "IzjYwo1HMVpa",
        "outputId": "d5567f55-2268-4994-f04c-981480b5a958"
      },
      "execution_count": null,
      "outputs": [
        {
          "output_type": "execute_result",
          "data": {
            "text/plain": [
              "<function print(*args, sep=' ', end='\\n', file=None, flush=False)>"
            ]
          },
          "metadata": {},
          "execution_count": 7
        }
      ]
    },
    {
      "cell_type": "code",
      "source": [
        "# deklarasi variabel tuple\n",
        "numbers = (23, 43, 15, 34)\n",
        "\n",
        "# cara mengakses elemen dalam variabel tuple\n",
        "numbers [0]  # 23\n",
        "numbers [1]  # 43\n",
        "numbers [2]  # 15\n",
        "\n",
        "print (numbers [0])\n",
        "print (numbers [1])\n",
        "print (numbers [2])"
      ],
      "metadata": {
        "id": "IjpRcTU9aJVU",
        "colab": {
          "base_uri": "https://localhost:8080/"
        },
        "outputId": "5a6e68b5-1330-47e3-edc2-2a3ac5f23f4a"
      },
      "execution_count": 4,
      "outputs": [
        {
          "output_type": "stream",
          "name": "stdout",
          "text": [
            "23\n",
            "43\n",
            "15\n"
          ]
        }
      ]
    },
    {
      "cell_type": "code",
      "source": [
        "# deklarasi variabel set a dan b\n",
        "a = {1, 2, 3}\n",
        "b= {2, 3, 4}\n",
        "\n",
        "# operasi gabungan\n",
        "a. union(b) # {1, 2, 3, 4}\n",
        "\n",
        "# operasi irisan\n",
        "a. intersection(b) # {2, 3}\n",
        "\n",
        "# operasi perbedaan\n",
        "a. symmetric_difference(b) # {1, 4}"
      ],
      "metadata": {
        "colab": {
          "base_uri": "https://localhost:8080/"
        },
        "id": "BN9nHpmdLBgY",
        "outputId": "dfe16639-e098-44da-8a70-5d4b2f74dc55"
      },
      "execution_count": 6,
      "outputs": [
        {
          "output_type": "execute_result",
          "data": {
            "text/plain": [
              "{1, 4}"
            ]
          },
          "metadata": {},
          "execution_count": 6
        }
      ]
    },
    {
      "cell_type": "code",
      "source": [
        "# deklarasi variabel dictionary\n",
        "propertyDetail = {\"numFloors\": 1, \"propertyType\": \"Rumah\", \"hasTerrace\": True, \"hasGarage\": False}\n",
        "\n",
        "# cara mengakses elemen dalam variabel dictionary\n",
        "propertyDetail[\"numFloors\"] = False\n",
        "propertyDetail[\"hasTerrace\"]   # False"
      ],
      "metadata": {
        "colab": {
          "base_uri": "https://localhost:8080/"
        },
        "id": "fruFbeE5LIWa",
        "outputId": "ca320ac0-b321-4ed9-e32f-bfa5c8e66213"
      },
      "execution_count": 11,
      "outputs": [
        {
          "output_type": "execute_result",
          "data": {
            "text/plain": [
              "True"
            ]
          },
          "metadata": {},
          "execution_count": 11
        }
      ]
    }
  ]
}