{
  "nbformat": 4,
  "nbformat_minor": 0,
  "metadata": {
    "colab": {
      "provenance": [],
      "authorship_tag": "ABX9TyOiEI1AsJlDZVTtahFd32Z3",
      "include_colab_link": true
    },
    "kernelspec": {
      "name": "python3",
      "display_name": "Python 3"
    },
    "language_info": {
      "name": "python"
    }
  },
  "cells": [
    {
      "cell_type": "markdown",
      "metadata": {
        "id": "view-in-github",
        "colab_type": "text"
      },
      "source": [
        "<a href=\"https://colab.research.google.com/github/nasywaauliya2/Pemerograman-Dasar/blob/main/Praktikum4.ipynb\" target=\"_parent\"><img src=\"https://colab.research.google.com/assets/colab-badge.svg\" alt=\"Open In Colab\"/></a>"
      ]
    },
    {
      "cell_type": "code",
      "execution_count": null,
      "metadata": {
        "colab": {
          "base_uri": "https://localhost:8080/"
        },
        "id": "AgRGZUjZguXL",
        "outputId": "39692d31-9970-48dc-91a9-998f7fb99853"
      },
      "outputs": [
        {
          "output_type": "stream",
          "name": "stdout",
          "text": [
            "Pengunjung adalah orang dewasa.\n"
          ]
        }
      ],
      "source": [
        "# variable untuk menyimpan umur pengunjung\n",
        "umur : int = 20\n",
        "\n",
        "#programm hanya mencetak pesan jika umur di atas 17\n",
        "if umur > 17 :\n",
        "    print(\"Pengunjung adalah orang dewasa.\")"
      ]
    },
    {
      "cell_type": "code",
      "source": [
        "username = input(\"Masukkan username: \")\n",
        "password = input(\"Masukkan password: \")\n",
        "\n",
        "if username == \"nasywa\" and password == \"060501\":\n",
        "    print(\"Login berhasil\")\n",
        "else:\n",
        "    print(\"Login gagal\")\n"
      ],
      "metadata": {
        "colab": {
          "base_uri": "https://localhost:8080/"
        },
        "id": "KYIhwcUYjTbU",
        "outputId": "1c3d851f-7e29-48a0-935f-718d47c14756"
      },
      "execution_count": null,
      "outputs": [
        {
          "output_type": "stream",
          "name": "stdout",
          "text": [
            "Masukkan username: nasywa\n",
            "Masukkan password: 060501\n",
            "Login berhasil\n"
          ]
        }
      ]
    },
    {
      "cell_type": "code",
      "source": [
        "# program untuk mengecek bonus dan diskon\n",
        "total_belanja = input(\"Total belanja: Rp\")\n",
        "# jumlah yang harus dibayar adalah berapa total belanjanya\n",
        "# tapi kalau dapat diskon akan berkurang\n",
        "if int(total_belanja) > 100000:\n",
        "    print(\"Selamat karena Belanja > Rp. 100.000 anda mendapat voucher Makan\")\n",
        "    print(\"dan diskon 5%\")\n",
        "    # hitung diskonnnya\n",
        "    diskon = int(total_belanja) * 5/100 #5%\n",
        "    bayar = int(total_belanja) - diskon\n",
        "    # cek struk\n",
        "    print(\"Total yang harus di bayar : Rp %s\" % bayar)\n",
        "    print(\"Terima kasih sudah berbelanja di Toko kami\")\n",
        "    print(\"Kami Tunggu kunjungan anda selanjutnya\")"
      ],
      "metadata": {
        "colab": {
          "base_uri": "https://localhost:8080/"
        },
        "id": "XY_jWKC-ktRT",
        "outputId": "2106dfb3-888d-451e-8f00-b4b1a11b57de"
      },
      "execution_count": null,
      "outputs": [
        {
          "output_type": "stream",
          "name": "stdout",
          "text": [
            "Total belanja: Rp150000\n",
            "Selamat karena Belanja > Rp. 100.000 anda mendapat voucher Makan\n",
            "dan diskon 5%\n",
            "Total yang harus di bayar : Rp 142500.0\n",
            "Terima kasih sudah berbelanja di Toko kami\n",
            "Kami Tunggu kunjungan anda selanjutnya\n"
          ]
        }
      ]
    },
    {
      "cell_type": "code",
      "source": [
        "#variabel untuk memeriksa apakah ada notifikasi baru\n",
        "ada_notifikasi_baru: bool = True\n",
        "if ada_notifikasi_baru:\n",
        "    print(\"Ada notifikasi baru.\")\n"
      ],
      "metadata": {
        "colab": {
          "base_uri": "https://localhost:8080/"
        },
        "id": "oVRQ7WaunRrV",
        "outputId": "a4d332dd-fca1-4c3f-987e-0ea5266d6c39"
      },
      "execution_count": null,
      "outputs": [
        {
          "output_type": "stream",
          "name": "stdout",
          "text": [
            "Ada notifikasi baru.\n"
          ]
        }
      ]
    },
    {
      "cell_type": "code",
      "source": [
        "umur = input (\"Berapa umur kamu: \")\n",
        "if int(umur) >= 18:\n",
        "  print(\"Kamu boleh membuat kartu SIM\")\n",
        "else:\n",
        "  print(\"Kamu belum boleh membuat kartu SIM\")"
      ],
      "metadata": {
        "colab": {
          "base_uri": "https://localhost:8080/"
        },
        "id": "GcAaDQ8znmuv",
        "outputId": "21411b84-f670-41e9-c614-cb954bf68bf4"
      },
      "execution_count": null,
      "outputs": [
        {
          "output_type": "stream",
          "name": "stdout",
          "text": [
            "Berapa umur kamu: 19\n",
            "Kamu boleh membuat kartu SIM\n"
          ]
        }
      ]
    },
    {
      "cell_type": "code",
      "source": [
        "total_belanja = 300000\n",
        "if total_belanja > 200000:\n",
        "   diskon = total_belanja * 0.10\n",
        "   total_bayar = total_belanja - diskon\n",
        "   print(f\"Anda mendapat diskon! Total bayar: Rp {total_bayar}\")\n",
        "else:\n",
        "   print(f\"Total bayar: {total_belanja}\")"
      ],
      "metadata": {
        "colab": {
          "base_uri": "https://localhost:8080/"
        },
        "id": "OvrlWj8d08xf",
        "outputId": "b843288d-7cef-4f72-9cc6-124bd38d14b3"
      },
      "execution_count": 4,
      "outputs": [
        {
          "output_type": "stream",
          "name": "stdout",
          "text": [
            "Anda mendapat diskon! Total bayar: Rp 270000.0\n"
          ]
        }
      ]
    },
    {
      "cell_type": "code",
      "source": [
        "nilai = 90\n",
        "if nilai >= 90:\n",
        "  print(\"Luar biasa! Nilai A\")\n",
        "elif nilai >= 80:\n",
        "  print(\"Bagus! Nilai B\")\n",
        "elif nilai >= 70:\n",
        "  print(\"Cukup. Nilai C\")\n",
        "else:\n",
        "  print(\"Nilai kurang, perlu belajar lebih giat.\")\n"
      ],
      "metadata": {
        "colab": {
          "base_uri": "https://localhost:8080/"
        },
        "id": "P3yu8jHy2weA",
        "outputId": "6e9f9d3a-a48c-4c4f-db05-4a7167272749"
      },
      "execution_count": 8,
      "outputs": [
        {
          "output_type": "stream",
          "name": "stdout",
          "text": [
            "Luar biasa! Nilai A\n"
          ]
        }
      ]
    },
    {
      "cell_type": "code",
      "source": [
        "angka = int(input(\"Masukkan angka: \"))\n",
        "\n",
        "if angka % 2 ==0:\n",
        "  print(\"Bilangan genap\")\n",
        "else:\n",
        "  print(\"Bilangan ganjil\")"
      ],
      "metadata": {
        "colab": {
          "base_uri": "https://localhost:8080/"
        },
        "id": "q_nO-xmc2O7K",
        "outputId": "8aa724a8-1e6a-46ac-fb4a-99bcba043f8e"
      },
      "execution_count": 5,
      "outputs": [
        {
          "output_type": "stream",
          "name": "stdout",
          "text": [
            "Masukkan angka: 10\n",
            "Bilangan genap\n"
          ]
        }
      ]
    },
    {
      "cell_type": "code",
      "source": [
        "# Menentukan jenis diskon berdasarkan nilai\n",
        "hari: str = \"Sabtu\"\n",
        "\n",
        "if hari == \"Sabtu\" or hari == \"Minggu\":\n",
        "   diskon: float = 0.20 # Diskon 20%\n",
        "   print(f\"Selamat! Anda mendapat diskon akhir pekan sebesar {diskon * 100}%.\")\n",
        "elif hari == \"Jumat\":\n",
        "     diskon: float = 0.15 # Diskon 15%\n",
        "     print(f\"Dison spesial jumat! Anda mendapat potongan {diskon * 100}%.\")\n",
        "else:\n",
        "   diskon: float = 0.05 # Diskon 5%\n",
        "   print(f\"Anda mendapatkan diskon hari biasa sebesar {diskon * 100}%.\")\n"
      ],
      "metadata": {
        "colab": {
          "base_uri": "https://localhost:8080/"
        },
        "id": "4MLUR7jN49Bg",
        "outputId": "3d8b6a07-cf62-44c9-b556-6d703346c0cd"
      },
      "execution_count": 8,
      "outputs": [
        {
          "output_type": "stream",
          "name": "stdout",
          "text": [
            "Selamat! Anda mendapat diskon akhir pekan sebesar 20.0%.\n"
          ]
        }
      ]
    },
    {
      "cell_type": "code",
      "source": [
        "rupiah = int(input(\"Masukkan jumlah uang (Rp):\"))\n",
        "print(\"1. Dollar ke (USD)\")\n",
        "print(\"2. Euro ke (EUR)\")\n",
        "print(\"3. Yen ke (Yen)\")\n",
        "pilih = int(input(\"Pilih konversi (1/2/3):\"))\n",
        "\n",
        "if pilih == 1:\n",
        "   print(\"Dalam Dollar:\", rupiah / 15000)\n",
        "elif pilih == 2:\n",
        "   print(\"Dalam Euro:\", rupiah / 16000)\n",
        "elif pilih == 3:\n",
        "   print(\"Dalam Yen:\", rupiah / 120)\n",
        "else:\n",
        "   print(\"Pilihan tidak valid.\")"
      ],
      "metadata": {
        "colab": {
          "base_uri": "https://localhost:8080/"
        },
        "id": "0pQP7D9Ti6Uf",
        "outputId": "4b64c3f9-eabb-43a3-c379-173fb193f89c"
      },
      "execution_count": 7,
      "outputs": [
        {
          "output_type": "stream",
          "name": "stdout",
          "text": [
            "Masukkan jumlah uang (Rp):30000\n",
            "1. Dollar ke (USD)\n",
            "2. Euro ke (EUR)\n",
            "3. Yen ke (Yen)\n",
            "Pilih konversi (1/2/3):2\n",
            "Dalam Euro: 1.875\n"
          ]
        }
      ]
    }
  ]
}