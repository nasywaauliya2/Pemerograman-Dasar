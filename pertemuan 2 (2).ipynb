{
  "nbformat": 4,
  "nbformat_minor": 0,
  "metadata": {
    "colab": {
      "provenance": [],
      "authorship_tag": "ABX9TyN2sfar8H6XXqLoNOts0Tvn",
      "include_colab_link": true
    },
    "kernelspec": {
      "name": "python3",
      "display_name": "Python 3"
    },
    "language_info": {
      "name": "python"
    }
  },
  "cells": [
    {
      "cell_type": "markdown",
      "metadata": {
        "id": "view-in-github",
        "colab_type": "text"
      },
      "source": [
        "<a href=\"https://colab.research.google.com/github/nasywaauliya2/Pemerograman-Dasar/blob/main/pertemuan%202%20(2).ipynb\" target=\"_parent\"><img src=\"https://colab.research.google.com/assets/colab-badge.svg\" alt=\"Open In Colab\"/></a>"
      ]
    },
    {
      "cell_type": "code",
      "execution_count": 11,
      "metadata": {
        "id": "5ZKRm6AbdDmY"
      },
      "outputs": [],
      "source": [
        "# Tanpa Anotasi (Tipe data Implisit)\n",
        "nama = \"nasywa\"\n",
        "umur = 19\n",
        "tinggi_badan = 158\n",
        "status_kuliah = False\n",
        "\n",
        "# Dengan Anotasi (Tipe data Eksplisit)\n",
        "nama: str = \"Nasywa\"\n",
        "umur: int = 19\n",
        "tinggi_badan: float = 158\n",
        "status_kuliah: bool = False"
      ]
    },
    {
      "cell_type": "code",
      "source": [],
      "metadata": {
        "id": "EpsBjvjJhAZd"
      },
      "execution_count": null,
      "outputs": []
    }
  ]
}