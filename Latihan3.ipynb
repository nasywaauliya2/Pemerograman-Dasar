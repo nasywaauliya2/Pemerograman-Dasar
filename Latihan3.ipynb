{
  "nbformat": 4,
  "nbformat_minor": 0,
  "metadata": {
    "colab": {
      "provenance": [],
      "authorship_tag": "ABX9TyOs5xfWKvDu9y28kH+GGL17",
      "include_colab_link": true
    },
    "kernelspec": {
      "name": "python3",
      "display_name": "Python 3"
    },
    "language_info": {
      "name": "python"
    }
  },
  "cells": [
    {
      "cell_type": "markdown",
      "metadata": {
        "id": "view-in-github",
        "colab_type": "text"
      },
      "source": [
        "<a href=\"https://colab.research.google.com/github/nasywaauliya2/Pemerograman-Dasar/blob/main/Latihan3.ipynb\" target=\"_parent\"><img src=\"https://colab.research.google.com/assets/colab-badge.svg\" alt=\"Open In Colab\"/></a>"
      ]
    },
    {
      "cell_type": "code",
      "execution_count": null,
      "metadata": {
        "colab": {
          "base_uri": "https://localhost:8080/"
        },
        "id": "fd61-CBW9AaV",
        "outputId": "47904b09-b6b4-4107-90c6-8aaeb0eece05"
      },
      "outputs": [
        {
          "output_type": "stream",
          "name": "stdout",
          "text": [
            "Masukkan tahun: 2006 \n",
            "Apakah tahun kabisat?  False\n"
          ]
        }
      ],
      "source": [
        "tahun = int(input(\"Masukkan tahun: \"))\n",
        "\n",
        "# Ekspresi logika langsung\n",
        "kabisat = (tahun % 4 == 0 and tahun % 100 != 0) or (tahun % 400 == 0)\n",
        "\n",
        "print(\"Apakah tahun kabisat? \", kabisat)\n"
      ]
    },
    {
      "cell_type": "code",
      "source": [
        "# Program operasi aritmatika sederhana\n",
        "a = int(input(\"Masukkan angka pertama: \"))\n",
        "b = int(input(\"Masukkan angka kedua: \"))\n",
        "\n",
        "print(\"Hasil Penjumlahan:\", a + b)\n",
        "print(\"Hasil Pengurangan:\", a - b)\n",
        "print(\"Hasil Perkalian:\", a * b)\n",
        "print(\"Hasil Pembagian:\",a / b)\n"
      ],
      "metadata": {
        "colab": {
          "base_uri": "https://localhost:8080/"
        },
        "id": "PWxUJieWjevY",
        "outputId": "5c7acae3-495d-4c2e-bb43-cfddddcfdd98"
      },
      "execution_count": 1,
      "outputs": [
        {
          "output_type": "stream",
          "name": "stdout",
          "text": [
            "Masukkan angka pertama: 31 \n",
            "Masukkan angka kedua: 8\n",
            "Hasil Penjumlahan: 39\n",
            "Hasil Pengurangan: 23\n",
            "Hasil Perkalian: 248\n",
            "Hasil Pembagian: 3.875\n"
          ]
        }
      ]
    }
  ]
}