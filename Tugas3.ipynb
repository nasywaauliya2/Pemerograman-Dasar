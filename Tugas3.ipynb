{
  "nbformat": 4,
  "nbformat_minor": 0,
  "metadata": {
    "colab": {
      "provenance": [],
      "authorship_tag": "ABX9TyP0B9P4FUe1LwbAlvBoz/TH",
      "include_colab_link": true
    },
    "kernelspec": {
      "name": "python3",
      "display_name": "Python 3"
    },
    "language_info": {
      "name": "python"
    }
  },
  "cells": [
    {
      "cell_type": "markdown",
      "metadata": {
        "id": "view-in-github",
        "colab_type": "text"
      },
      "source": [
        "<a href=\"https://colab.research.google.com/github/nasywaauliya2/Pemerograman-Dasar/blob/main/Tugas3.ipynb\" target=\"_parent\"><img src=\"https://colab.research.google.com/assets/colab-badge.svg\" alt=\"Open In Colab\"/></a>"
      ]
    },
    {
      "cell_type": "code",
      "source": [
        "subtotal = int(input(\"Total belanja: \"))\n",
        "member = True\n",
        "diskon = (0, 0.15 * subtotal)[(member == True) and (subtotal > 100000)]\n",
        "harga_setelah_diskon = subtotal - diskon\n",
        "ppn = 0.11 * harga_setelah_diskon\n",
        "total = harga_setelah_diskon + ppn\n",
        "\n",
        "print(\"Subtotal              :Rp\", subtotal)\n",
        "print(\"Diskon                :Rp\", diskon)\n",
        "print(\"Harga setelah diskon  :Rp\", harga_setelah_diskon)\n",
        "print(\"PPN 11%               :Rp\", ppn)\n",
        "print(\"Total akhir           :Rp\", total)\n",
        "\n"
      ],
      "metadata": {
        "colab": {
          "base_uri": "https://localhost:8080/"
        },
        "id": "dXx1A5Lkc2_4",
        "outputId": "5d1a51fd-431c-4eba-9ff9-9828aeb4e821"
      },
      "execution_count": 8,
      "outputs": [
        {
          "output_type": "stream",
          "name": "stdout",
          "text": [
            "Total belanja: 180000\n",
            "Subtotal              :Rp 180000\n",
            "Diskon                :Rp 27000.0\n",
            "Harga setelah diskon  :Rp 153000.0\n",
            "PPN 11%               :Rp 16830.0\n",
            "Total akhir           :Rp 169830.0\n"
          ]
        }
      ]
    }
  ]
}