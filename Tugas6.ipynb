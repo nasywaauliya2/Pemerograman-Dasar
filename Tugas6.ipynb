{
  "nbformat": 4,
  "nbformat_minor": 0,
  "metadata": {
    "colab": {
      "provenance": [],
      "authorship_tag": "ABX9TyOYMwbNEiKhUYELs9yn3as4",
      "include_colab_link": true
    },
    "kernelspec": {
      "name": "python3",
      "display_name": "Python 3"
    },
    "language_info": {
      "name": "python"
    }
  },
  "cells": [
    {
      "cell_type": "markdown",
      "metadata": {
        "id": "view-in-github",
        "colab_type": "text"
      },
      "source": [
        "<a href=\"https://colab.research.google.com/github/nasywaauliya2/Pemerograman-Dasar/blob/main/Tugas6.ipynb\" target=\"_parent\"><img src=\"https://colab.research.google.com/assets/colab-badge.svg\" alt=\"Open In Colab\"/></a>"
      ]
    },
    {
      "cell_type": "code",
      "source": [
        "print(\"Pemesanan Makanan\")\n",
        "\n",
        "# Tipe Data Primitif\n",
        "nama_toko = \"chezyum\"   # string\n",
        "jumlah_barang = int(input(\"Masukkan jumlah barang yang tersedia: \"))  # int\n",
        "buka = True  # boolean\n",
        "\n",
        "# Tipe Data Non-Primitif\n",
        "daftar_barang = [\"Cheesecake\", \"Bingsoo\", \"Cookies\", \"Donut\"]  # list\n",
        "harga_barang = (35000, 40000, 25000, 15000)  # tuple\n",
        "info_toko = {\"Nama\": nama_toko, \"Status\": \"Buka\" if buka else \"Tutup\"}  # dictionary\n",
        "kategori = {\"Dessert\", \"Makanan Ringan\", \"Pastry\"}  # set\n",
        "\n",
        "print(\"Informasi Toko\")\n",
        "print(\"Data Toko:\", info_toko)\n",
        "print(\"Kategori Barang:\", kategori)\n",
        "print(\"Daftar Barang:\", daftar_barang)\n",
        "print(\"Harga Barang:\", harga_barang)\n",
        "\n",
        "# Percabangan untuk menentukan kategori jumlah stok\n",
        "if jumlah_barang > 100:\n",
        "    status_stok = \"Stok Sangat Banyak\"\n",
        "elif jumlah_barang >= 50:\n",
        "    status_stok = \"Stok Cukup\"\n",
        "else:\n",
        "    status_stok = \"Stok Menipis\"\n",
        "\n",
        "print(f\"Jumlah Barang: {jumlah_barang}\")\n",
        "print(f\"Status Stok: {status_stok}\")\n",
        "\n",
        "# Perulangan For: Menampilkan daftar barang dan harga\n",
        "print(\"Daftar Barang dan Harga:\")\n",
        "for i in range(len(daftar_barang)):\n",
        "    print(f\"{daftar_barang[i]} - Rp{harga_barang[i]}\")\n",
        "\n",
        "# Perulangan While: Simulasi pelanggan membeli barang\n",
        "print(\"Simulasi Pembelian:\")\n",
        "hitung = 0\n",
        "while hitung < 3:\n",
        "    print(f\"Pelanggan {hitung + 1} membeli {daftar_barang[hitung]}\")\n",
        "    hitung += 1\n",
        "\n",
        "print(\"Terima kasih telah menggunakan program ini!\")\n",
        "print(\"Program selesai.\")"
      ],
      "metadata": {
        "colab": {
          "base_uri": "https://localhost:8080/"
        },
        "id": "s9CJsdwEJA95",
        "outputId": "c996bb49-1905-4e93-8190-6210a2bf6f7e"
      },
      "execution_count": 10,
      "outputs": [
        {
          "output_type": "stream",
          "name": "stdout",
          "text": [
            "Pemesanan Makanan\n",
            "Masukkan jumlah barang yang tersedia: 130\n",
            "--- Informasi Toko ---\n",
            "Data Toko: {'Nama': 'chezyum', 'Status': 'Buka'}\n",
            "Kategori Barang: {'Makanan Ringan', 'Dessert', 'Pastry'}\n",
            "Daftar Barang: ['Cheesecake', 'Bingsoo', 'Cookies', 'Donut']\n",
            "Harga Barang: (35000, 40000, 25000, 15000)\n",
            "Jumlah Barang: 130\n",
            "Status Stok: Stok Sangat Banyak\n",
            "Daftar Barang dan Harga:\n",
            "Cheesecake - Rp35000\n",
            "Bingsoo - Rp40000\n",
            "Cookies - Rp25000\n",
            "Donut - Rp15000\n",
            "Simulasi Pembelian:\n",
            "Pelanggan 1 membeli Cheesecake\n",
            "Pelanggan 2 membeli Bingsoo\n",
            "Pelanggan 3 membeli Cookies\n",
            "Terima kasih telah menggunakan program ini!\n",
            "Program selesai.\n"
          ]
        }
      ]
    }
  ]
}