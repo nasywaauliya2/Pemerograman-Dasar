{
  "nbformat": 4,
  "nbformat_minor": 0,
  "metadata": {
    "colab": {
      "provenance": [],
      "authorship_tag": "ABX9TyNv4I6jNqqKSsP5QivnwFyl",
      "include_colab_link": true
    },
    "kernelspec": {
      "name": "python3",
      "display_name": "Python 3"
    },
    "language_info": {
      "name": "python"
    }
  },
  "cells": [
    {
      "cell_type": "markdown",
      "metadata": {
        "id": "view-in-github",
        "colab_type": "text"
      },
      "source": [
        "<a href=\"https://colab.research.google.com/github/nasywaauliya2/Pemerograman-Dasar/blob/main/Tugas6.ipynb\" target=\"_parent\"><img src=\"https://colab.research.google.com/assets/colab-badge.svg\" alt=\"Open In Colab\"/></a>"
      ]
    },
    {
      "cell_type": "code",
      "execution_count": 1,
      "metadata": {
        "colab": {
          "base_uri": "https://localhost:8080/"
        },
        "id": "tkBeQSElJZNz",
        "outputId": "e7e5ec82-e677-46eb-ae96-50dfc8bb8762"
      },
      "outputs": [
        {
          "output_type": "stream",
          "name": "stdout",
          "text": [
            "Total nilai: 100\n"
          ]
        }
      ],
      "source": [
        "angka = [40, 30, 20, 10]\n",
        "total = sum(angka)\n",
        "print(\"Total nilai:\", total)\n"
      ]
    },
    {
      "cell_type": "code",
      "source": [
        "nama = \"nasywa\"\n",
        "panjang = len(nama)\n",
        "print(\"Jumlah huruf:\", panjang)\n"
      ],
      "metadata": {
        "colab": {
          "base_uri": "https://localhost:8080/"
        },
        "id": "tNvf0h0oJtkf",
        "outputId": "ccac2c08-216b-421c-fd73-9c548c43e21c"
      },
      "execution_count": 2,
      "outputs": [
        {
          "output_type": "stream",
          "name": "stdout",
          "text": [
            "Jumlah huruf: 6\n"
          ]
        }
      ]
    },
    {
      "cell_type": "code",
      "source": [
        "nilai = [96, 85, 75, 62, 81, 54]\n",
        "print(\"Nilai tertinggi:\", max(nilai))\n",
        "print(\"Nilai terendah:\", min(nilai))\n"
      ],
      "metadata": {
        "colab": {
          "base_uri": "https://localhost:8080/"
        },
        "id": "8_z4aOAZJ2pH",
        "outputId": "aecf1284-2039-4244-feac-1314922d5316"
      },
      "execution_count": 3,
      "outputs": [
        {
          "output_type": "stream",
          "name": "stdout",
          "text": [
            "Nilai tertinggi: 96\n",
            "Nilai terendah: 54\n"
          ]
        }
      ]
    },
    {
      "cell_type": "code",
      "source": [
        "nama = input(\"Masukkan nama kamu: \")\n",
        "print(\"Halo,\", nama)\n",
        "\n"
      ],
      "metadata": {
        "colab": {
          "base_uri": "https://localhost:8080/"
        },
        "id": "8HS4s98QKF5Y",
        "outputId": "78885f18-50c3-4aa2-f61d-28d5a72ae484"
      },
      "execution_count": 5,
      "outputs": [
        {
          "output_type": "stream",
          "name": "stdout",
          "text": [
            "Masukkan nama kamu: nasywa auliya\n",
            "Halo, nasywa auliya\n"
          ]
        }
      ]
    },
    {
      "cell_type": "code",
      "source": [
        "x = 5.30\n",
        "print(\"Tipe data x adalah:\", type(x))\n"
      ],
      "metadata": {
        "colab": {
          "base_uri": "https://localhost:8080/"
        },
        "id": "19z15STJKXBu",
        "outputId": "b93700b1-d918-41a1-fa65-f6bd109b72a1"
      },
      "execution_count": 6,
      "outputs": [
        {
          "output_type": "stream",
          "name": "stdout",
          "text": [
            "Tipe data x adalah: <class 'float'>\n"
          ]
        }
      ]
    }
  ]
}