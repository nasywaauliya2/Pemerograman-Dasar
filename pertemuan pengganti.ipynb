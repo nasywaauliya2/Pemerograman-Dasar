{
  "nbformat": 4,
  "nbformat_minor": 0,
  "metadata": {
    "colab": {
      "provenance": [],
      "authorship_tag": "ABX9TyMX0w3tb7rLkpF1NmXNYoBE",
      "include_colab_link": true
    },
    "kernelspec": {
      "name": "python3",
      "display_name": "Python 3"
    },
    "language_info": {
      "name": "python"
    }
  },
  "cells": [
    {
      "cell_type": "markdown",
      "metadata": {
        "id": "view-in-github",
        "colab_type": "text"
      },
      "source": [
        "<a href=\"https://colab.research.google.com/github/nasywaauliya2/Pemerograman-Dasar/blob/main/pertemuan%20pengganti.ipynb\" target=\"_parent\"><img src=\"https://colab.research.google.com/assets/colab-badge.svg\" alt=\"Open In Colab\"/></a>"
      ]
    },
    {
      "cell_type": "code",
      "execution_count": null,
      "metadata": {
        "colab": {
          "base_uri": "https://localhost:8080/"
        },
        "id": "FRejF6f4L73M",
        "outputId": "6d910b3b-9002-4946-a72c-aa415c2d1271"
      },
      "outputs": [
        {
          "output_type": "stream",
          "name": "stdout",
          "text": [
            "Halo, Nasywa!\n",
            "Halo, Auliya!\n",
            "Halo, Nathari!\n"
          ]
        }
      ],
      "source": [
        "# SOAL 1: Fungsi Inisialisasi Sederhana\n",
        "def sapa(nama):\n",
        "  return f\"Halo, {nama}!\"\n",
        "\n",
        "# Menggunakan fungsi\n",
        "print(sapa(\"Nasywa\"))\n",
        "print(sapa(\"Auliya\"))\n",
        "print(sapa(\"Nathari\"))\n",
        "\n"
      ]
    },
    {
      "cell_type": "code",
      "source": [
        "# SOAL 1 (Modifikasi): Fungsi Inisialisasi Sederhana\n",
        "def biodata():\n",
        "    print(\"BIODATA DIRI\")\n",
        "    print(\"Nama          : Nasywa Auliya\")\n",
        "    print(\"NIM           : 4232401026\")\n",
        "    print(\"Umur          : 19 tahun\")\n",
        "    print(\"Jenis Kelamin : Perempuan\")\n",
        "    print(\"Alamat        : Batam, Kepulauan Riau\")\n",
        "    print(\"Jurusan       : Tekik Elektro\")\n",
        "    print(\"Prodi         : RPE\")\n",
        "    print(\"Hobi          : Merajut, Membaca, Memasak\")\n",
        "\n",
        "\n",
        "# Memanggil fungsi\n",
        "biodata()"
      ],
      "metadata": {
        "colab": {
          "base_uri": "https://localhost:8080/"
        },
        "id": "PAE7MuOPP9lW",
        "outputId": "9499e1dc-3321-46d1-983d-f291b52d9679"
      },
      "execution_count": null,
      "outputs": [
        {
          "output_type": "stream",
          "name": "stdout",
          "text": [
            "BIODATA DIRI\n",
            "Nama          : Nasywa Auliya\n",
            "NIM           : 4232401026\n",
            "Umur          : 19 tahun\n",
            "Jenis Kelamin : Perempuan\n",
            "Alamat        : Batam, Kepulauan Riau\n",
            "Jurusan       : Tekik Elektro\n",
            "Prodi         : RPE\n",
            "Hobi          : Merajut, Membaca, Memasak\n"
          ]
        }
      ]
    },
    {
      "cell_type": "code",
      "source": [
        "# SOAL 2: Menghitung Volume Kubus\n",
        "def hitung_volume_kubus(sisi):\n",
        "    \"\"\"Menghitung volume kubus dari panjang sisinya.\"\"\"\n",
        "    return sisi ** 3  # sisi dipangkatkan 3\n",
        "\n",
        "# Pemanggilan:\n",
        "panjang_sisi = 5\n",
        "print(f\"Volume kubus dengan sisi {panjang_sisi} adalah: {hitung_volume_kubus(panjang_sisi)}\")"
      ],
      "metadata": {
        "colab": {
          "base_uri": "https://localhost:8080/"
        },
        "id": "uSpYbXiwR2KA",
        "outputId": "66810a15-bc91-4fec-cfb2-479e55f03cf1"
      },
      "execution_count": null,
      "outputs": [
        {
          "output_type": "stream",
          "name": "stdout",
          "text": [
            "Volume kubus dengan sisi 5 adalah: 125\n"
          ]
        }
      ]
    },
    {
      "cell_type": "code",
      "source": [
        "# Program Menghitung Volume Prisma Segitiga\n",
        "def hitung_volume_prisma(alas, tinggi_alas, tinggi_prisma):\n",
        "    \"\"\"Menghitung volume prisma segitiga.\"\"\"\n",
        "    luas_alas = 2.5 * alas * tinggi_alas\n",
        "    return luas_alas * tinggi_prisma\n",
        "\n",
        "# Pemanggilan:\n",
        "a = 8  # alas segitiga\n",
        "t_alas = 6\n",
        "t_prisma = 14\n",
        "print(f\"Volume prisma segitiga adalah: {hitung_volume_prisma(a, t_alas, t_prisma)} cm³\")\n"
      ],
      "metadata": {
        "colab": {
          "base_uri": "https://localhost:8080/"
        },
        "id": "C3lbAUhxST5z",
        "outputId": "ba7f1e0d-3019-4219-d063-aaa34044b81f"
      },
      "execution_count": 5,
      "outputs": [
        {
          "output_type": "stream",
          "name": "stdout",
          "text": [
            "Volume prisma segitiga adalah: 1680.0 cm³\n"
          ]
        }
      ]
    },
    {
      "cell_type": "code",
      "source": [
        "# SOAL 3: Menghitung Rata-rata dari List Nilai\n",
        "def hitung_rata_rata(data_nilai):\n",
        "    \"\"\"Menghitung rata-rata dari list angka menggunakan perulangan for.\"\"\"\n",
        "    total = 0\n",
        "\n",
        "    # Perulangan untuk menjumlahkan nilai\n",
        "    for nilai in data_nilai:\n",
        "        total += nilai\n",
        "\n",
        "    # Pembagian untuk rata-rata\n",
        "    if total > 0:\n",
        "        return total / len(data_nilai)\n",
        "    return 0\n",
        "\n",
        "# Pemanggilan:\n",
        "nilai_praktikan = [85, 78, 92, 65, 90]\n",
        "print(f\"Nilai rata-rata kelas adalah: {hitung_rata_rata(nilai_praktikan)}\")"
      ],
      "metadata": {
        "colab": {
          "base_uri": "https://localhost:8080/"
        },
        "id": "Q4f_2FOJSl76",
        "outputId": "7919ae6e-f76f-4f34-e44b-08f12b267534"
      },
      "execution_count": null,
      "outputs": [
        {
          "output_type": "stream",
          "name": "stdout",
          "text": [
            "Nilai rata-rata kelas adalah: 82.0\n"
          ]
        }
      ]
    },
    {
      "cell_type": "code",
      "source": [
        "# SOAL 3 (Modifikasi): Menghitung Rata-rata dari List Nilai dengan Pengecekan Validasi\n",
        "def hitung_rata_rata(data_nilai):\n",
        "    \"\"\"Menghitung rata-rata dari list angka dengan mengabaikan nilai tidak valid.\"\"\"\n",
        "    total = 0\n",
        "    jumlah_valid = 0\n",
        "\n",
        "    # Perulangan untuk menjumlahkan nilai\n",
        "    for nilai in data_nilai:\n",
        "        if 0 <= nilai <= 100:  # hanya nilai valid\n",
        "            total += nilai\n",
        "            jumlah_valid += 1\n",
        "        else:\n",
        "            print(f\"Nilai {nilai} diabaikan karena tidak valid (harus antara 0-100).\")\n",
        "\n",
        "    # Pembagian untuk rata-rata\n",
        "    if jumlah_valid > 0:\n",
        "        return total / jumlah_valid\n",
        "    return 0\n",
        "\n",
        "# Pemanggilan:\n",
        "nilai_praktikan = [75, 88, 62, 90, 85]\n",
        "print(f\"Nilai rata-rata kelas adalah: {hitung_rata_rata(nilai_praktikan)}\")\n"
      ],
      "metadata": {
        "colab": {
          "base_uri": "https://localhost:8080/"
        },
        "id": "Ml-FMA7IS42t",
        "outputId": "6359367f-dc2f-474c-ad37-44d72e5a1ec8"
      },
      "execution_count": null,
      "outputs": [
        {
          "output_type": "stream",
          "name": "stdout",
          "text": [
            "Nilai rata-rata kelas adalah: 80.0\n"
          ]
        }
      ]
    },
    {
      "cell_type": "code",
      "source": [
        "# SOAL 4: Sistem Penentuan Predikat Nilai\n",
        "def tentukan_predikat(skor):\n",
        "    \"\"\"Menentukan predikat (A, B, C, D, E) berdasarkan skor.\"\"\"\n",
        "\n",
        "    # Validasi tipe data\n",
        "    if not isinstance(skor, (int, float)):\n",
        "        return \"Input harus berupa angka.\"\n",
        "    if skor < 0 or skor > 100:\n",
        "        return \"Skor harus berada di antara 0 - 100.\"\n",
        "\n",
        "    # Penentuan predikat berdasarkan rentang nilai\n",
        "    if skor >= 85:\n",
        "        return \"A\"\n",
        "    elif skor >= 70:\n",
        "        return \"B\"\n",
        "    elif skor >= 60:\n",
        "        return \"C\"\n",
        "    elif skor >= 50:\n",
        "        return \"D\"\n",
        "    else:\n",
        "        return \"E\"\n",
        "\n",
        "\n",
        "# Pemanggilan fungsi\n",
        "print(f\"Skor 90 mendapat predikat: {tentukan_predikat(90)}\")\n",
        "print(f\"Skor 75 mendapat predikat: {tentukan_predikat(75)}\")\n",
        "print(f\"Skor 63 mendapat predikat: {tentukan_predikat(63)}\")\n",
        "print(f\"Skor 52 mendapat predikat: {tentukan_predikat(52)}\")\n",
        "print(f\"Skor 48 mendapat predikat: {tentukan_predikat(48)}\")\n"
      ],
      "metadata": {
        "colab": {
          "base_uri": "https://localhost:8080/"
        },
        "id": "veC0mmIyWWTK",
        "outputId": "4beea216-d2af-4e0e-aede-077928bcfc11"
      },
      "execution_count": 9,
      "outputs": [
        {
          "output_type": "stream",
          "name": "stdout",
          "text": [
            "Skor 90 mendapat predikat: A\n",
            "Skor 75 mendapat predikat: B\n",
            "Skor 63 mendapat predikat: C\n",
            "Skor 52 mendapat predikat: D\n",
            "Skor 48 mendapat predikat: E\n"
          ]
        }
      ]
    },
    {
      "cell_type": "code",
      "source": [
        "# SOAL 4 (Modifikasi): Sistem Penentuan Predikat Nilai\n",
        "# Program Modifikasi: Predikat Nilai dengan Pesan Motivasi\n",
        "def tentukan_predikat(skor):\n",
        "    \"\"\"Menentukan predikat, kategori, dan pesan motivasi berdasarkan skor.\"\"\"\n",
        "\n",
        "    if not isinstance(skor, (int, float)):\n",
        "        return \"Input harus berupa angka!\"\n",
        "    if skor < 0 or skor > 100:\n",
        "        return \"Skor harus antara 0 - 100!\"\n",
        "\n",
        "    # Menentukan predikat dan motivasi\n",
        "    if skor >= 85:\n",
        "        predikat = \"A\"\n",
        "        kategori = \"Sangat Baik\"\n",
        "        pesan = \"Pertahankan prestasimu!\"\n",
        "    elif skor >= 70:\n",
        "        predikat = \"B\"\n",
        "        kategori = \"Baik\"\n",
        "        pesan = \"Kerja bagus! Sedikit lagi bisa lebih baik!\"\n",
        "    elif skor >= 60:\n",
        "        predikat = \"C\"\n",
        "        kategori = \"Cukup\"\n",
        "        pesan = \"Masih perlu belajar lebih giat\"\n",
        "    elif skor >= 50:\n",
        "        predikat = \"D\"\n",
        "        kategori = \"Kurang\"\n",
        "        pesan = \"Jangan menyerah! Kamu pasti bisa meningkat\"\n",
        "    else:\n",
        "        predikat = \"E\"\n",
        "        kategori = \"Gagal\"\n",
        "        pesan = \"Tetap semangat! Kesempatan selalu ada\"\n",
        "\n",
        "    # Menampilkan hasil analisis nilai\n",
        "    print(\"===================================\")\n",
        "    print(f\"Skor Anda      : {skor}\")\n",
        "    print(f\"Predikat Nilai : {predikat}\")\n",
        "    print(f\"Kategori Nilai : {kategori}\")\n",
        "    print(f\"Pesan Motivasi : {pesan}\")\n",
        "    print(\"===================================\")\n",
        "\n",
        "\n",
        "# Pemanggilan fungsi\n",
        "tentukan_predikat(92)\n",
        "tentukan_predikat(76)\n",
        "tentukan_predikat(65)\n",
        "tentukan_predikat(53)\n",
        "tentukan_predikat(30)\n"
      ],
      "metadata": {
        "colab": {
          "base_uri": "https://localhost:8080/"
        },
        "id": "eyCAb9sMTkO7",
        "outputId": "00b8c250-4dd5-4781-c6b4-3cdb4773cafd"
      },
      "execution_count": 10,
      "outputs": [
        {
          "output_type": "stream",
          "name": "stdout",
          "text": [
            "===================================\n",
            "Skor Anda      : 92\n",
            "Predikat Nilai : A\n",
            "Kategori Nilai : Sangat Baik\n",
            "Pesan Motivasi : Pertahankan prestasimu!\n",
            "===================================\n",
            "===================================\n",
            "Skor Anda      : 76\n",
            "Predikat Nilai : B\n",
            "Kategori Nilai : Baik\n",
            "Pesan Motivasi : Kerja bagus! Sedikit lagi bisa lebih baik!\n",
            "===================================\n",
            "===================================\n",
            "Skor Anda      : 65\n",
            "Predikat Nilai : C\n",
            "Kategori Nilai : Cukup\n",
            "Pesan Motivasi : Masih perlu belajar lebih giat\n",
            "===================================\n",
            "===================================\n",
            "Skor Anda      : 53\n",
            "Predikat Nilai : D\n",
            "Kategori Nilai : Kurang\n",
            "Pesan Motivasi : Jangan menyerah! Kamu pasti bisa meningkat\n",
            "===================================\n",
            "===================================\n",
            "Skor Anda      : 30\n",
            "Predikat Nilai : E\n",
            "Kategori Nilai : Gagal\n",
            "Pesan Motivasi : Tetap semangat! Kesempatan selalu ada\n",
            "===================================\n"
          ]
        }
      ]
    },
    {
      "cell_type": "code",
      "source": [
        "# SOAL 5: Menghitung Faktorial dengan Loop While\n",
        "def hitung_faktorial(n):\n",
        "    \"\"\"Menghitung faktorial dari bilangan positif n.\"\"\"\n",
        "    if n < 0:\n",
        "        return \"Tidak dapat menghitung faktorial dari bilangan negatif.\"\n",
        "    elif n == 0:\n",
        "        return 1\n",
        "    else:\n",
        "        hasil = 1\n",
        "\n",
        "        # Perulangan berjalan selama n lebih besar dari 1\n",
        "        while n > 1:\n",
        "            hasil *= n\n",
        "            n -= 1  # Kurangi n setiap iterasi\n",
        "\n",
        "        return hasil\n",
        "\n",
        "# Pemanggilan:\n",
        "bilangan_n = 4\n",
        "print(f\"Faktorial dari {bilangan_n} adalah: {hitung_faktorial(bilangan_n)}\")  # Output: 24\n"
      ],
      "metadata": {
        "id": "MxIE1v1ST2CJ",
        "colab": {
          "base_uri": "https://localhost:8080/"
        },
        "outputId": "43488410-ca91-4931-e8e0-85c21282d019"
      },
      "execution_count": 1,
      "outputs": [
        {
          "output_type": "stream",
          "name": "stdout",
          "text": [
            "Faktorial dari 4 adalah: 24\n"
          ]
        }
      ]
    },
    {
      "cell_type": "code",
      "source": [
        "# SOAL 5 (Modifikasi): Menghitung Faktorial dengan Loop While\n",
        "# Program Modifikasi: Menghitung Faktorial dengan Loop While dan Validasi Input\n",
        "def hitung_faktorial(n):\n",
        "    \"\"\"Menghitung faktorial dari bilangan positif n dengan validasi input.\"\"\"\n",
        "\n",
        "    # Validasi tipe data\n",
        "    if not isinstance(n, int):\n",
        "        return \"Input harus berupa bilangan bulat (integer).\"\n",
        "\n",
        "    # Kasus khusus untuk bilangan negatif dan nol\n",
        "    if n < 0:\n",
        "        return \"Tidak dapat menghitung faktorial dari bilangan negatif.\"\n",
        "    elif n == 0:\n",
        "        return 1\n",
        "    else:\n",
        "        hasil = 1\n",
        "        print(f\"Proses perhitungan faktorial {n}:\")\n",
        "\n",
        "        # Perulangan while\n",
        "        while n > 1:\n",
        "            print(f\"{hasil} × {n} =\", end=\" \")\n",
        "            hasil *= n\n",
        "            print(hasil)\n",
        "            n -= 1  # pengurangan nilai n setiap iterasi\n",
        "\n",
        "        return hasil\n",
        "\n",
        "\n",
        "# Pemanggilan fungsi\n",
        "bilangan_n = int(input(\"Masukkan bilangan bulat positif: \"))\n",
        "hasil_faktorial = hitung_faktorial(bilangan_n)\n",
        "print(f\"Hasil faktorial: {hasil_faktorial}\")\n"
      ],
      "metadata": {
        "colab": {
          "base_uri": "https://localhost:8080/"
        },
        "id": "tstnKK2XLitW",
        "outputId": "e806edec-d521-43d9-b580-710fc7492c37"
      },
      "execution_count": 2,
      "outputs": [
        {
          "output_type": "stream",
          "name": "stdout",
          "text": [
            "Masukkan bilangan bulat positif: 8 \n",
            "Proses perhitungan faktorial 8:\n",
            "1 × 8 = 8\n",
            "8 × 7 = 56\n",
            "56 × 6 = 336\n",
            "336 × 5 = 1680\n",
            "1680 × 4 = 6720\n",
            "6720 × 3 = 20160\n",
            "20160 × 2 = 40320\n",
            "Hasil faktorial: 40320\n"
          ]
        }
      ]
    },
    {
      "cell_type": "code",
      "source": [
        "# SOAL 6: Analisis Data Suhu Ekstrem (for dan if/elif)\n",
        "def analisis_suhu(data_suhu, batas_panas=35, batas_dingin=15):\n",
        "    \"\"\"Menghitung jumlah hari Panas dan Dingin dari data_suhu.\"\"\"\n",
        "    panas_count = 0\n",
        "    dingin_count = 0  # Inisialisasi penghitung hari dingin\n",
        "\n",
        "    # Perulangan untuk setiap data suhu\n",
        "    for suhu in data_suhu:\n",
        "        if suhu >= batas_panas:\n",
        "            panas_count += 1\n",
        "        elif suhu <= batas_dingin:\n",
        "            dingin_count += 1\n",
        "\n",
        "    return panas_count, dingin_count\n",
        "\n",
        "\n",
        "# Pemanggilan:\n",
        "suhu_mingguan = [36, 30, 14, 25, 38, 16, 28]\n",
        "jumlah_panas, jumlah_dingin = analisis_suhu(suhu_mingguan)\n",
        "\n",
        "print(f\"Jumlah hari Panas (>=35°C): {jumlah_panas}\")\n",
        "print(f\"Jumlah hari Dingin (<=15°C): {jumlah_dingin}\")\n"
      ],
      "metadata": {
        "colab": {
          "base_uri": "https://localhost:8080/"
        },
        "id": "7gJqwHQ-LoQE",
        "outputId": "5e64418f-891d-4bec-c045-bd556127638e"
      },
      "execution_count": 3,
      "outputs": [
        {
          "output_type": "stream",
          "name": "stdout",
          "text": [
            "Jumlah hari Panas (>=35°C): 2\n",
            "Jumlah hari Dingin (<=15°C): 1\n"
          ]
        }
      ]
    },
    {
      "cell_type": "code",
      "source": [
        "# SOAL 6 (Modifikasi): Analisis Data Suhu Ekstrem (for dan if/elif)\n",
        "# Program Modifikasi Lain: Analisis Suhu dengan Statistik Tambahan\n",
        "def analisis_suhu(data_suhu, batas_panas=35, batas_dingin=15):\n",
        "    \"\"\"Menganalisis suhu harian dan menampilkan statistik lengkap.\"\"\"\n",
        "\n",
        "    # Validasi input\n",
        "    if not isinstance(data_suhu, list) or len(data_suhu) == 0:\n",
        "        return \"Input harus berupa list suhu yang tidak kosong.\"\n",
        "    if not all(isinstance(s, (int, float)) for s in data_suhu):\n",
        "        return \"Semua data suhu harus berupa angka (int atau float).\"\n",
        "\n",
        "    panas_count = 0\n",
        "    dingin_count = 0\n",
        "    total_hari = len(data_suhu)\n",
        "\n",
        "    print(\"HASIL ANALISIS SUHU HARIAN\")\n",
        "    print(\"---------------------------------\")\n",
        "\n",
        "    # Perulangan dan analisis setiap suhu\n",
        "    for i, suhu in enumerate(data_suhu, start=1):\n",
        "        if suhu >= batas_panas:\n",
        "            kategori = \"Panas\"\n",
        "            panas_count += 1\n",
        "        elif suhu <= batas_dingin:\n",
        "            kategori = \"Dingin\"\n",
        "            dingin_count += 1\n",
        "        else:\n",
        "            kategori = \"Normal\"\n",
        "\n",
        "        print(f\"Hari ke-{i}: {suhu}°C → {kategori}\")\n",
        "\n",
        "    # Hitung statistik tambahan\n",
        "    rata_rata = sum(data_suhu) / total_hari\n",
        "    persen_panas = (panas_count / total_hari) * 100\n",
        "    persen_dingin = (dingin_count / total_hari) * 100\n",
        "\n",
        "    print(\"---------------------------------\")\n",
        "    print(f\"Jumlah Hari Panas  (≥{batas_panas}°C): {panas_count} hari ({persen_panas:.1f}%)\")\n",
        "    print(f\"Jumlah Hari Dingin (≤{batas_dingin}°C): {dingin_count} hari ({persen_dingin:.1f}%)\")\n",
        "    print(f\"Rata-rata Suhu Mingguan: {rata_rata:.2f}°C\")\n",
        "\n",
        "    # Kembalikan hasil sebagai dictionary\n",
        "    return {\n",
        "        \"hari_panas\": panas_count,\n",
        "        \"hari_dingin\": dingin_count,\n",
        "        \"rata_rata\": rata_rata,\n",
        "        \"persen_panas\": persen_panas,\n",
        "        \"persen_dingin\": persen_dingin\n",
        "    }\n",
        "\n",
        "\n",
        "# Pemanggilan fungsi\n",
        "suhu_mingguan = [37, 32, 12, 28, 40, 16, 25]\n",
        "hasil = analisis_suhu(suhu_mingguan)\n"
      ],
      "metadata": {
        "colab": {
          "base_uri": "https://localhost:8080/"
        },
        "id": "dzm3Zd7yL37n",
        "outputId": "e7f92574-d4fd-4450-ea0a-cb930dd20cd6"
      },
      "execution_count": 12,
      "outputs": [
        {
          "output_type": "stream",
          "name": "stdout",
          "text": [
            "HASIL ANALISIS SUHU HARIAN\n",
            "---------------------------------\n",
            "Hari ke-1: 37°C → Panas\n",
            "Hari ke-2: 32°C → Normal\n",
            "Hari ke-3: 12°C → Dingin\n",
            "Hari ke-4: 28°C → Normal\n",
            "Hari ke-5: 40°C → Panas\n",
            "Hari ke-6: 16°C → Normal\n",
            "Hari ke-7: 25°C → Normal\n",
            "---------------------------------\n",
            "Jumlah Hari Panas  (≥35°C): 2 hari (28.6%)\n",
            "Jumlah Hari Dingin (≤15°C): 1 hari (14.3%)\n",
            "Rata-rata Suhu Mingguan: 27.14°C\n"
          ]
        }
      ]
    }
  ]
}